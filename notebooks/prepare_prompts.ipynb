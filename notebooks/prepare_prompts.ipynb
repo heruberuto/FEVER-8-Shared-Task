{
 "cells": [
  {
   "cell_type": "markdown",
   "id": "c86c3bea",
   "metadata": {},
   "source": [
    "# Pipeline step 1: Prepare prompts"
   ]
  },
  {
   "cell_type": "markdown",
   "id": "a0898df0",
   "metadata": {},
   "source": []
  }
 ],
 "metadata": {
  "language_info": {
   "name": "python"
  }
 },
 "nbformat": 4,
 "nbformat_minor": 5
}
