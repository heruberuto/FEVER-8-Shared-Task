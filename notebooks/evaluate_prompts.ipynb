{
 "cells": [
  {
   "cell_type": "markdown",
   "id": "96b750f7",
   "metadata": {},
   "source": [
    "# 2. Evaluate the prompts using qwen3:14b and calculate results"
   ]
  },
  {
   "cell_type": "markdown",
   "id": "1713ab7c",
   "metadata": {},
   "source": [
    "#perhaps add timeout that falls back to prev output?"
   ]
  }
 ],
 "metadata": {
  "language_info": {
   "name": "python"
  }
 },
 "nbformat": 4,
 "nbformat_minor": 5
}
